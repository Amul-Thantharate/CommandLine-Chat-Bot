{
 "cells": [
  {
   "cell_type": "code",
   "execution_count": 6,
   "metadata": {},
   "outputs": [],
   "source": [
    "import pathlib\n",
    "import textwrap\n",
    "import os\n",
    "\n",
    "import google.generativeai as genai\n",
    "\n",
    "from IPython.display import display\n",
    "from IPython.display import Markdown\n",
    "\n",
    "\n",
    "def to_markdown(text):\n",
    "  text = text.replace('•', '  *')\n",
    "  return Markdown(textwrap.indent(text, '> ', predicate=lambda _: True))"
   ]
  },
  {
   "cell_type": "code",
   "execution_count": null,
   "metadata": {},
   "outputs": [],
   "source": [
    "fetched_api_key = os.getenv(\"GOOGLE_API_KEY\")\n",
    "genai.configure(api_key=fetched_api_key)\n",
    "model = genai.GenerativeModel(\"models/gemini-1.5-flash\")"
   ]
  },
  {
   "cell_type": "code",
   "execution_count": null,
   "metadata": {},
   "outputs": [],
   "source": [
    "import PIL.Image\n",
    "\n",
    "img = PIL.Image.open('image.jpg')\n",
    "img"
   ]
  },
  {
   "cell_type": "code",
   "execution_count": 11,
   "metadata": {},
   "outputs": [],
   "source": [
    "response = model.generate_content([\"Write a short, engaging blog post based on this picture. It should include a description of the meal in the photo and talk about my journey meal prepping.\", img], stream=True)\n",
    "response.resolve()"
   ]
  },
  {
   "cell_type": "code",
   "execution_count": 12,
   "metadata": {},
   "outputs": [
    {
     "data": {
      "text/markdown": [
       "> ## My Meal Prep Journey: From Chaos to Calm\n",
       "> \n",
       "> It's no secret that meal prepping is a game-changer.  Gone are the days of frantic weekday evenings, searching for something edible and healthy in the depths of my fridge.  Now, I have these beautiful little containers filled with delicious, nutritious meals ready to go.\n",
       "> \n",
       "> This week's creation? **Teriyaki chicken with brown rice, broccoli, red peppers, and carrots.**  It's bursting with flavor and color, and it's just the right amount of food to keep me satisfied until my next meal. \n",
       "> \n",
       "> My meal prep journey wasn't always this smooth sailing.  There were definitely some rough patches, like the time I accidentally made enough food for a small army and the time I discovered I'd left my lunch in the fridge... with the door open.  But through trial and error (and a few hilarious mishaps), I've finally found a system that works for me.  \n",
       "> \n",
       "> Meal prepping isn't just about saving time and money, it's about taking control of my health and well-being.  It allows me to make healthy choices without compromising on flavor or convenience.  And who knows, maybe one day I'll even be able to resist the siren call of the takeout menu. 😉\n"
      ],
      "text/plain": [
       "<IPython.core.display.Markdown object>"
      ]
     },
     "execution_count": 12,
     "metadata": {},
     "output_type": "execute_result"
    }
   ],
   "source": [
    "to_markdown(response.text)"
   ]
  },
  {
   "cell_type": "code",
   "execution_count": 15,
   "metadata": {},
   "outputs": [
    {
     "data": {
      "text/plain": [
       "ChatSession(\n",
       "    model=genai.GenerativeModel(\n",
       "        model_name='models/gemini-1.5-flash',\n",
       "        generation_config={},\n",
       "        safety_settings={},\n",
       "        tools=None,\n",
       "        system_instruction=None,\n",
       "        cached_content=None\n",
       "    ),\n",
       "    history=[]\n",
       ")"
      ]
     },
     "execution_count": 15,
     "metadata": {},
     "output_type": "execute_result"
    }
   ],
   "source": [
    "chat = model.start_chat(history=[])\n",
    "chat"
   ]
  },
  {
   "cell_type": "code",
   "execution_count": 16,
   "metadata": {},
   "outputs": [
    {
     "data": {
      "text/markdown": [
       "> A computer is like a super-smart toy that follows your instructions, uses numbers to remember things, and shows you the results on a screen. \n"
      ],
      "text/plain": [
       "<IPython.core.display.Markdown object>"
      ]
     },
     "execution_count": 16,
     "metadata": {},
     "output_type": "execute_result"
    }
   ],
   "source": [
    "response = chat.send_message(\"In one sentence, explain how a computer works to a young child.\")\n",
    "to_markdown(response.text)"
   ]
  },
  {
   "cell_type": "code",
   "execution_count": 17,
   "metadata": {},
   "outputs": [
    {
     "name": "stdout",
     "output_type": "stream",
     "text": [
      "A\n",
      "________________________________________________________________________________\n",
      " computer is essentially a complex machine that processes information using a binary code of 0\n",
      "________________________________________________________________________________\n",
      "s and 1s, following instructions from software programs to perform calculations, store\n",
      "________________________________________________________________________________\n",
      " data, and communicate with other devices. \n",
      "\n",
      "________________________________________________________________________________\n"
     ]
    }
   ],
   "source": [
    "response = chat.send_message(\"Okay, how about a more detailed explanation to a high schooler?\", stream=True)\n",
    "\n",
    "for chunk in response:\n",
    "    print(chunk.text)\n",
    "    print(\"_\"*80)"
   ]
  },
  {
   "cell_type": "code",
   "execution_count": 18,
   "metadata": {},
   "outputs": [
    {
     "data": {
      "text/plain": [
       "[parts {\n",
       "   text: \"In one sentence, explain how a computer works to a young child.\"\n",
       " }\n",
       " role: \"user\",\n",
       " parts {\n",
       "   text: \"A computer is like a super-smart toy that follows your instructions, uses numbers to remember things, and shows you the results on a screen. \\n\"\n",
       " }\n",
       " role: \"model\",\n",
       " parts {\n",
       "   text: \"Okay, how about a more detailed explanation to a high schooler?\"\n",
       " }\n",
       " role: \"user\",\n",
       " parts {\n",
       "   text: \"A computer is essentially a complex machine that processes information using a binary code of 0s and 1s, following instructions from software programs to perform calculations, store data, and communicate with other devices. \\n\"\n",
       " }\n",
       " role: \"model\"]"
      ]
     },
     "execution_count": 18,
     "metadata": {},
     "output_type": "execute_result"
    }
   ],
   "source": [
    "chat.history"
   ]
  },
  {
   "cell_type": "code",
   "execution_count": 19,
   "metadata": {},
   "outputs": [
    {
     "data": {
      "text/markdown": [
       "> **user**: In one sentence, explain how a computer works to a young child."
      ],
      "text/plain": [
       "<IPython.core.display.Markdown object>"
      ]
     },
     "metadata": {},
     "output_type": "display_data"
    },
    {
     "data": {
      "text/markdown": [
       "> **model**: A computer is like a super-smart toy that follows your instructions, uses numbers to remember things, and shows you the results on a screen. \n"
      ],
      "text/plain": [
       "<IPython.core.display.Markdown object>"
      ]
     },
     "metadata": {},
     "output_type": "display_data"
    },
    {
     "data": {
      "text/markdown": [
       "> **user**: Okay, how about a more detailed explanation to a high schooler?"
      ],
      "text/plain": [
       "<IPython.core.display.Markdown object>"
      ]
     },
     "metadata": {},
     "output_type": "display_data"
    },
    {
     "data": {
      "text/markdown": [
       "> **model**: A computer is essentially a complex machine that processes information using a binary code of 0s and 1s, following instructions from software programs to perform calculations, store data, and communicate with other devices. \n"
      ],
      "text/plain": [
       "<IPython.core.display.Markdown object>"
      ]
     },
     "metadata": {},
     "output_type": "display_data"
    }
   ],
   "source": [
    "for message in chat.history:\n",
    "    display(to_markdown(f'**{message.role}**: {message.parts[0].text}'))"
   ]
  },
  {
   "cell_type": "code",
   "execution_count": 21,
   "metadata": {},
   "outputs": [
    {
     "data": {
      "text/plain": [
       "total_tokens: 106"
      ]
     },
     "execution_count": 21,
     "metadata": {},
     "output_type": "execute_result"
    }
   ],
   "source": [
    "model.count_tokens(\"What is the meaning of life?\")\n",
    "model.count_tokens(chat.history)"
   ]
  },
  {
   "cell_type": "code",
   "execution_count": 22,
   "metadata": {},
   "outputs": [
    {
     "name": "stdout",
     "output_type": "stream",
     "text": [
      "[-0.003216741, -0.013358698, -0.017649598, -0.0091 ... TRIMMED]\n"
     ]
    }
   ],
   "source": [
    "result = genai.embed_content(\n",
    "    model=\"models/embedding-001\",\n",
    "    content=\"What is the meaning of life?\",\n",
    "    task_type=\"retrieval_document\",\n",
    "    title=\"Embedding of single string\")\n",
    "\n",
    "# 1 input > 1 vector output\n",
    "print(str(result['embedding'])[:50], '... TRIMMED]')"
   ]
  },
  {
   "cell_type": "code",
   "execution_count": 23,
   "metadata": {},
   "outputs": [
    {
     "name": "stdout",
     "output_type": "stream",
     "text": [
      "[0.0040260437, 0.004124458, -0.014209415, -0.00183 ... TRIMMED ...\n",
      "[-0.004049845, -0.0075574904, -0.0073463684, -0.03 ... TRIMMED ...\n",
      "[0.025310587, -0.0080734305, -0.029902633, 0.01160 ... TRIMMED ...\n"
     ]
    }
   ],
   "source": [
    "result = genai.embed_content(\n",
    "    model=\"models/embedding-001\",\n",
    "    content=[\n",
    "        'What is the meaning of life?',\n",
    "        'How much wood would a woodchuck chuck?',\n",
    "        'How does the brain work?'],\n",
    "    task_type=\"retrieval_document\",\n",
    "    title=\"Embedding of list of strings\")\n",
    "\n",
    "# A list of inputs > A list of vectors output\n",
    "for v in result['embedding']:\n",
    "  print(str(v)[:50], '... TRIMMED ...')"
   ]
  },
  {
   "cell_type": "code",
   "execution_count": 24,
   "metadata": {},
   "outputs": [
    {
     "data": {
      "text/plain": [
       "parts {\n",
       "  text: \"A computer is essentially a complex machine that processes information using a binary code of 0s and 1s, following instructions from software programs to perform calculations, store data, and communicate with other devices. \\n\"\n",
       "}\n",
       "role: \"model\""
      ]
     },
     "execution_count": 24,
     "metadata": {},
     "output_type": "execute_result"
    }
   ],
   "source": [
    "response.candidates[0].content"
   ]
  },
  {
   "cell_type": "code",
   "execution_count": 27,
   "metadata": {},
   "outputs": [
    {
     "name": "stdout",
     "output_type": "stream",
     "text": [
      "[-0.002067016, -0.056467608, 0.01130487, 0.0133229 ... TRIMMED ...\n"
     ]
    }
   ],
   "source": [
    "result = genai.embed_content(\n",
    "    model = 'models/embedding-001',\n",
    "    content = response.candidates[0].content)\n",
    "\n",
    "# 1 input > 1 vector output\n",
    "print(str(result['embedding'])[:50], '... TRIMMED ...')"
   ]
  },
  {
   "cell_type": "code",
   "execution_count": 28,
   "metadata": {},
   "outputs": [
    {
     "name": "stdout",
     "output_type": "stream",
     "text": [
      "[-0.014632266, -0.042202696, -0.015757175, 0.01548 ... TRIMMED...\n",
      "[-0.024947928, -0.04683991, -0.0035777327, 0.01660 ... TRIMMED...\n",
      "[-0.010055617, -0.07208932, -0.00011750793, -0.023 ... TRIMMED...\n",
      "[-0.002067016, -0.056467608, 0.01130487, 0.0133229 ... TRIMMED...\n"
     ]
    }
   ],
   "source": [
    "result = genai.embed_content(\n",
    "    model = 'models/embedding-001',\n",
    "    content = chat.history)\n",
    "\n",
    "# 1 input > 1 vector output\n",
    "for i,v in enumerate(result['embedding']):\n",
    "    print(str(v)[:50], '... TRIMMED...')"
   ]
  },
  {
   "cell_type": "code",
   "execution_count": 34,
   "metadata": {},
   "outputs": [],
   "source": [
    "model = genai.GenerativeModel('gemini-1.5-flash')\n",
    "response = model.generate_content(\n",
    "    genai.protos.Content(\n",
    "        parts = [\n",
    "            genai.protos.Part(text=\"Write a short, engaging blog post based on this picture.\"),\n",
    "            genai.protos.Part(\n",
    "                inline_data=genai.protos.Blob(\n",
    "                    mime_type='image/jpeg',\n",
    "                    data=pathlib.Path('image1.jpg').read_bytes()\n",
    "                )\n",
    "            ),\n",
    "        ],\n",
    "    ),\n",
    "    stream=True)"
   ]
  },
  {
   "cell_type": "code",
   "execution_count": 35,
   "metadata": {},
   "outputs": [],
   "source": [
    "response.resolve()"
   ]
  },
  {
   "cell_type": "code",
   "execution_count": 36,
   "metadata": {},
   "outputs": [
    {
     "data": {
      "text/markdown": [
       "> ## The Colosseum: A Timeless Witness\n",
       "> \n",
       "> Standing tall against the twilight sky, the Colosseum is a tes... [TRIMMED] ..."
      ],
      "text/plain": [
       "<IPython.core.display.Markdown object>"
      ]
     },
     "execution_count": 36,
     "metadata": {},
     "output_type": "execute_result"
    }
   ],
   "source": [
    "to_markdown(response.text[:100] + \"... [TRIMMED] ...\")"
   ]
  },
  {
   "cell_type": "code",
   "execution_count": 32,
   "metadata": {},
   "outputs": [
    {
     "data": {
      "text/markdown": [
       "> Imagine a computer is like a super smart toy box! Inside, there are lots of tiny parts called \"bits\" that can be either on or off, like a light switch. \n",
       "> \n",
       "> When you turn on the computer, it's like opening the toy box. You can then put in different \"toys\" called programs. These programs tell the computer what to do, like play a game or show you a picture. \n",
       "> \n",
       "> The computer uses the \"bits\" to remember all the information from the programs. It's like using the toy box to store all your toys!  \n",
       "> \n",
       "> When you tell the computer to do something, it uses the programs and the bits to work it out, like when you tell a toy robot to walk. \n",
       "> \n",
       "> So, the computer is like a super smart toy box that can follow instructions and do amazing things! \n"
      ],
      "text/plain": [
       "<IPython.core.display.Markdown object>"
      ]
     },
     "execution_count": 32,
     "metadata": {},
     "output_type": "execute_result"
    }
   ],
   "source": [
    "model = genai.GenerativeModel('gemini-1.5-flash')\n",
    "\n",
    "messages = [\n",
    "    {'role':'user',\n",
    "        'parts': [\"Briefly explain how a computer works to a young child.\"]}\n",
    "]\n",
    "response = model.generate_content(messages)\n",
    "\n",
    "to_markdown(response.text)"
   ]
  },
  {
   "cell_type": "code",
   "execution_count": 33,
   "metadata": {},
   "outputs": [
    {
     "data": {
      "text/markdown": [
       "> A computer is essentially a complex machine that processes information. It operates based on a simple principle: it manipulates binary code, which is a system of 0s and 1s. Here's a breakdown:\n",
       "> \n",
       "> **1. Hardware:** This is the physical part of the computer you can see and touch. It includes:\n",
       "> \n",
       ">    * **CPU (Central Processing Unit):** The brain of the computer. It executes instructions from programs, performs calculations, and manages the flow of data. Think of it as the main conductor of an orchestra.\n",
       ">    * **RAM (Random Access Memory):** Temporary storage for data and programs currently being used by the computer. It's like a scratchpad for the CPU to work on.\n",
       ">    * **Storage:** Hard drives, SSDs, etc., store information permanently, like the library of the computer.\n",
       ">    * **Input/Output Devices:** Keyboard, mouse, monitor, speakers, etc., allow you to interact with the computer and receive information from it.\n",
       "> \n",
       "> **2. Software:** These are the programs and instructions that tell the hardware what to do. They include:\n",
       "> \n",
       ">    * **Operating System (OS):** Manages the hardware resources and provides a user interface (like Windows, macOS, Linux). It acts as the intermediary between hardware and applications.\n",
       ">    * **Applications:** Programs you use to perform specific tasks, like web browsers, word processors, games, etc.\n",
       "> \n",
       "> **3. The Magic of Binary:** Computers use binary code, a system of 0s and 1s, to represent data and instructions. Each 0 or 1 is a bit, and groups of 8 bits form a byte. This code allows the computer to process information efficiently.\n",
       "> \n",
       "> **4. Processing Information:** When you run a program, the CPU reads instructions from the program and manipulates the data in RAM. It performs calculations, compares values, and makes decisions based on the program's instructions.\n",
       "> \n",
       "> **5. Input, Processing, Output:** This is the fundamental cycle of how a computer works:\n",
       "> \n",
       ">    * **Input:** Data is entered into the computer through input devices.\n",
       ">    * **Processing:** The CPU manipulates the data based on instructions from the program.\n",
       ">    * **Output:** The processed information is displayed or sent out through output devices.\n",
       "> \n",
       "> **In Summary:** A computer is a machine that uses binary code to process information based on instructions from software. It interacts with users through input and output devices and relies on various hardware components for its operation.\n"
      ],
      "text/plain": [
       "<IPython.core.display.Markdown object>"
      ]
     },
     "execution_count": 33,
     "metadata": {},
     "output_type": "execute_result"
    }
   ],
   "source": [
    "messages.append({'role':'model',\n",
    "                    'parts':[response.text]})\n",
    "\n",
    "messages.append({'role':'user',\n",
    "                    'parts':[\"Okay, how about a more detailed explanation to a high school student?\"]})\n",
    "\n",
    "response = model.generate_content(messages)\n",
    "\n",
    "to_markdown(response.text)"
   ]
  },
  {
   "cell_type": "code",
   "execution_count": null,
   "metadata": {},
   "outputs": [],
   "source": []
  }
 ],
 "metadata": {
  "kernelspec": {
   "display_name": "Python 3",
   "language": "python",
   "name": "python3"
  },
  "language_info": {
   "codemirror_mode": {
    "name": "ipython",
    "version": 3
   },
   "file_extension": ".py",
   "mimetype": "text/x-python",
   "name": "python",
   "nbconvert_exporter": "python",
   "pygments_lexer": "ipython3",
   "version": "3.12.4"
  }
 },
 "nbformat": 4,
 "nbformat_minor": 2
}
